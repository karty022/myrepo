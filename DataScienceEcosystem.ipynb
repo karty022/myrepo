{
 "cells": [
  {
   "cell_type": "markdown",
   "id": "0ab9f2cd-e9da-45a8-90e2-4e8885dc7458",
   "metadata": {},
   "source": [
    "# Data Science Tools and Ecosystem"
   ]
  },
  {
   "cell_type": "markdown",
   "id": "97d34291-c7b7-4f77-ba35-d385b1418709",
   "metadata": {},
   "source": [
    "## In this notebook, Data Science Tools and Ecosystem are summarized."
   ]
  },
  {
   "cell_type": "markdown",
   "id": "12b8d762-5ad0-4443-a8dd-e19418af70de",
   "metadata": {},
   "source": [
    "### Some of the popular languages that Data Scientists use are:\n",
    "1. Python\n",
    "2. R\n",
    "3. Scala"
   ]
  },
  {
   "cell_type": "markdown",
   "id": "19fed5c1-1d04-4075-a1ca-068d946e946e",
   "metadata": {},
   "source": [
    "### Some of the commonly used libraries used by Data Scientists include\n",
    "1. Matplotlib\n",
    "2. Numpy\n",
    "3. Pandas\n",
    "4. Scikit-learn"
   ]
  },
  {
   "cell_type": "markdown",
   "id": "d9b5861d-e44d-475a-96c6-f1ff3e437f42",
   "metadata": {},
   "source": [
    "| Data Science Tools |\n",
    "| ------------------ |\n",
    "| Python |\n",
    "| RStudio |\n",
    "| Apache Spark |"
   ]
  },
  {
   "cell_type": "markdown",
   "id": "b482150c-a09b-4a4a-9a4b-63f12dfbcbb8",
   "metadata": {},
   "source": [
    "### Below are a few examples of evaluating arithmetic expressions in Python"
   ]
  },
  {
   "cell_type": "code",
   "execution_count": 3,
   "id": "c42c3f95-8267-4fdb-ada7-bf7879030188",
   "metadata": {
    "tags": []
   },
   "outputs": [
    {
     "data": {
      "text/plain": [
       "17"
      ]
     },
     "execution_count": 3,
     "metadata": {},
     "output_type": "execute_result"
    }
   ],
   "source": [
    "# This a simple arithmetic expression to mutiply then add integers\n",
    "(3*4)+5"
   ]
  },
  {
   "cell_type": "code",
   "execution_count": 4,
   "id": "0ae132a0-e772-47fb-8546-cc18ace292ce",
   "metadata": {
    "tags": []
   },
   "outputs": [
    {
     "data": {
      "text/plain": [
       "3.3333333333333335"
      ]
     },
     "execution_count": 4,
     "metadata": {},
     "output_type": "execute_result"
    }
   ],
   "source": [
    "# This will convert 200 minutes to hours by dividing by 60\n",
    "200/60\n"
   ]
  },
  {
   "cell_type": "markdown",
   "id": "0e01eb68-1b5b-42a7-b52a-5974854cafae",
   "metadata": {},
   "source": [
    "**Objectives**\n",
    "\n",
    "* Use Markdown cells for creating tables\n",
    "* Create a Jupter Notebook\n",
    "* Use Markdown cells to add different level Headings\n",
    "* Different libraries of Data science\n",
    "* Different tools of Data Science\n"
   ]
  },
  {
   "cell_type": "markdown",
   "id": "fc34cbd4-2b29-4423-ab3f-ef5e2006cc02",
   "metadata": {},
   "source": [
    "## Author\n",
    "Karthik"
   ]
  },
  {
   "cell_type": "code",
   "execution_count": null,
   "id": "ffe59505-1b01-4439-b0df-4f600ad0aa32",
   "metadata": {},
   "outputs": [],
   "source": []
  }
 ],
 "metadata": {
  "kernelspec": {
   "display_name": "Python",
   "language": "python",
   "name": "conda-env-python-py"
  },
  "language_info": {
   "codemirror_mode": {
    "name": "ipython",
    "version": 3
   },
   "file_extension": ".py",
   "mimetype": "text/x-python",
   "name": "python",
   "nbconvert_exporter": "python",
   "pygments_lexer": "ipython3",
   "version": "3.7.12"
  }
 },
 "nbformat": 4,
 "nbformat_minor": 5
}
